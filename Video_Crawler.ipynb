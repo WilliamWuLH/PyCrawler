{
 "metadata": {
  "language_info": {
   "codemirror_mode": {
    "name": "ipython",
    "version": 3
   },
   "file_extension": ".py",
   "mimetype": "text/x-python",
   "name": "python",
   "nbconvert_exporter": "python",
   "pygments_lexer": "ipython3",
   "version": "3.7.2-final"
  },
  "orig_nbformat": 2,
  "kernelspec": {
   "name": "python3",
   "display_name": "Python 3.7.2 64-bit",
   "metadata": {
    "interpreter": {
     "hash": "4ce0e62306dd6a5716965d4519ada776f947e6dfc145b604b11307c10277ef29"
    }
   }
  }
 },
 "nbformat": 4,
 "nbformat_minor": 2,
 "cells": [
  {
   "cell_type": "code",
   "execution_count": 1,
   "metadata": {},
   "outputs": [],
   "source": [
    "import os\n",
    "import ffmpy3\n",
    "import requests\n",
    "from bs4 import BeautifulSoup\n",
    "from multiprocessing.dummy import Pool as ThreadPool"
   ]
  },
  {
   "cell_type": "code",
   "execution_count": 2,
   "metadata": {},
   "outputs": [],
   "source": [
    "search_keyword = '旺达幻视'\n",
    "search_url = 'https://www.okzyw.net/index.php'\n",
    "search_params = {\n",
    "    'm' : 'vod-search'\n",
    "}\n",
    "search_headers = {\n",
    "    'user-agent' : 'Mozilla/5.0 (Windows NT 10.0; Win64; x64) AppleWebKit/537.36 (KHTML, like Gecko) Chrome/88.0.4324.182 Safari/537.36',\n",
    "    'referer' : 'https://www.okzyw.net/',\n",
    "    'origin' : 'https://www.okzyw.net',\n",
    "    'host' : 'www.okzyw.net',\n",
    "}\n",
    "search_datas = {\n",
    "    'wd' : search_keyword,\n",
    "    'submit' : 'search',\n",
    "}\n",
    "\n",
    "video_path = 'F:/video/'\n",
    "video_dir = ''"
   ]
  },
  {
   "cell_type": "code",
   "execution_count": 3,
   "metadata": {},
   "outputs": [
    {
     "output_type": "stream",
     "name": "stdout",
     "text": [
      "https://www.okzyw.net/?m=vod-detail-id-70041.html\n",
      "旺达幻视更新至07集\n",
      "第001集 : \n",
      "http://youku.cdn31-okzy.com/20210116/2955_972f4a23/index.m3u8\n",
      "第002集 : \n",
      "http://youku.cdn31-okzy.com/20210116/2956_9292309c/index.m3u8\n",
      "第003集 : \n",
      "http://youku.cdn31-okzy.com/20210123/3096_f2685b9f/index.m3u8\n",
      "第004集 : \n",
      "http://youku.cdn31-okzy.com/20210130/3306_51ec4687/index.m3u8\n",
      "第005集 : \n",
      "http://youku.cdn31-okzy.com/20210206/3498_26f011a3/index.m3u8\n",
      "第006集 : \n",
      "http://youku.cdn31-okzy.com/20210213/3652_7b712634/index.m3u8\n",
      "第007集 : \n",
      "http://youku.cdn31-okzy.com/20210220/3881_ffd70da3/index.m3u8\n"
     ]
    }
   ],
   "source": [
    "r = requests.post(url=search_url, params=search_params, headers=search_headers, data=search_datas)\n",
    "r.encoding = 'utf-8'\n",
    "server = 'https://www.okzyw.net'\n",
    "search_html = BeautifulSoup(r.text, 'lxml')\n",
    "search_spans = search_html.find_all('span', class_='xing_vb4')\n",
    "for span in search_spans:\n",
    "    url = server + span.a.get('href')\n",
    "    name = span.a.string\n",
    "    print(url)\n",
    "    print(name)\n",
    "    video_dir = name\n",
    "    if video_dir not in os.listdir(video_path):\n",
    "        os.mkdir(video_path + video_dir)\n",
    "    \n",
    "    detail_url = url\n",
    "    r = requests.get(url = detail_url)\n",
    "    r.encoding = 'utf-8'\n",
    "    detail_bf = BeautifulSoup(r.text, 'lxml')\n",
    "    num = 1\n",
    "    search_res = {}\n",
    "    for each_url in detail_bf.find_all('input'):\n",
    "        if 'm3u8' in each_url.get('value'):\n",
    "            url = each_url.get('value')\n",
    "            if url not in search_res.keys():\n",
    "                search_res[url] = num\n",
    "            print('第%03d集 : ' % num)\n",
    "            print(url)\n",
    "            num += 1"
   ]
  },
  {
   "cell_type": "code",
   "execution_count": 4,
   "metadata": {},
   "outputs": [],
   "source": [
    "def downloadVideo(url):\n",
    "    num = search_res[url]\n",
    "    name = os.path.join(video_path + video_dir, '第%03d集.mp4' % num)\n",
    "    ffmpy3.FFmpeg(inputs={url:None}, outputs={name:None}).run()"
   ]
  },
  {
   "cell_type": "code",
   "execution_count": 5,
   "metadata": {},
   "outputs": [],
   "source": [
    "pool = ThreadPool(8)\n",
    "results = pool.map(downloadVideo, search_res.keys())\n",
    "pool.close()\n",
    "pool.join()"
   ]
  }
 ]
}